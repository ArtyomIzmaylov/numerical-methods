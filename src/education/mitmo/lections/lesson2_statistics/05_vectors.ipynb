{
 "nbformat": 4,
 "nbformat_minor": 0,
 "metadata": {
  "colab": {
   "provenance": [],
   "toc_visible": true
  },
  "kernelspec": {
   "name": "python3",
   "language": "python",
   "display_name": "Python 3 (ipykernel)"
  },
  "language_info": {
   "name": "python"
  }
 },
 "cells": [
  {
   "cell_type": "markdown",
   "metadata": {
    "id": "La_cEqh418R7"
   },
   "source": [
    "## Векторы и матрицы"
   ]
  },
  {
   "cell_type": "markdown",
   "metadata": {
    "id": "ITSohtIb3xri"
   },
   "source": [
    "### Массив Numpy (Numpy array)"
   ]
  },
  {
   "cell_type": "code",
   "metadata": {
    "id": "pD3xI-y148Dx",
    "ExecuteTime": {
     "end_time": "2024-06-18T20:46:00.585501942Z",
     "start_time": "2024-06-18T20:46:00.508582672Z"
    }
   },
   "source": [
    "import numpy as np"
   ],
   "execution_count": 1,
   "outputs": []
  },
  {
   "cell_type": "code",
   "metadata": {
    "id": "y1_WVreA14IF",
    "ExecuteTime": {
     "end_time": "2024-06-18T20:46:45.071201312Z",
     "start_time": "2024-06-18T20:46:45.022610529Z"
    }
   },
   "source": [
    "# предположим мы записали наши данные\n",
    "# роста, веса и обхвата шеи одного человека в список\n",
    "data = [[1.72, 54, 36.2], [21.92, 54, 36.2]]"
   ],
   "execution_count": 5,
   "outputs": []
  },
  {
   "cell_type": "code",
   "metadata": {
    "colab": {
     "base_uri": "https://localhost:8080/"
    },
    "id": "aLumw2iL4bKM",
    "outputId": "9de961b9-2d69-4302-8fe4-34ca9fe51484",
    "ExecuteTime": {
     "end_time": "2024-06-18T20:46:45.516861977Z",
     "start_time": "2024-06-18T20:46:45.510979859Z"
    }
   },
   "source": [
    "# убедимся, что это список с помощью функции type()\n",
    "type(data)"
   ],
   "execution_count": 6,
   "outputs": [
    {
     "data": {
      "text/plain": "list"
     },
     "execution_count": 6,
     "metadata": {},
     "output_type": "execute_result"
    }
   ]
  },
  {
   "cell_type": "code",
   "metadata": {
    "colab": {
     "base_uri": "https://localhost:8080/"
    },
    "id": "KoaFIduc4vqW",
    "outputId": "892775e1-1687-4207-f7cd-0cfc15d0f76a",
    "ExecuteTime": {
     "end_time": "2024-06-18T20:46:46.281333704Z",
     "start_time": "2024-06-18T20:46:46.244049357Z"
    }
   },
   "source": [
    "# преобразуем список в массив Numpy\n",
    "data_Numpy = np.array(data)\n",
    "data_Numpy"
   ],
   "execution_count": 7,
   "outputs": [
    {
     "data": {
      "text/plain": "array([[ 1.72, 54.  , 36.2 ],\n       [21.92, 54.  , 36.2 ]])"
     },
     "execution_count": 7,
     "metadata": {},
     "output_type": "execute_result"
    }
   ]
  },
  {
   "cell_type": "code",
   "metadata": {
    "colab": {
     "base_uri": "https://localhost:8080/"
    },
    "id": "pSFD2lOR45VW",
    "outputId": "0ebdc1b5-ce6b-4305-8009-1fb81d9fd6ce",
    "ExecuteTime": {
     "end_time": "2024-06-18T20:46:52.029409693Z",
     "start_time": "2024-06-18T20:46:52.002764793Z"
    }
   },
   "source": [
    "# если у нас несколько наблюдений, то нужна матрица, т.е.\n",
    "# по сути, несколько векторов\n",
    "data_matrix = np.array([[1.72, 54, 36.2], [1.74, 58, 36.3], [1.68, 52, 32.9]])\n",
    "data_matrix"
   ],
   "execution_count": 8,
   "outputs": [
    {
     "data": {
      "text/plain": "array([[ 1.72, 54.  , 36.2 ],\n       [ 1.74, 58.  , 36.3 ],\n       [ 1.68, 52.  , 32.9 ]])"
     },
     "execution_count": 8,
     "metadata": {},
     "output_type": "execute_result"
    }
   ]
  },
  {
   "cell_type": "code",
   "metadata": {
    "colab": {
     "base_uri": "https://localhost:8080/"
    },
    "id": "gZUsnCdh6FBX",
    "outputId": "c854fec8-75fe-48fc-bd9d-4c56abc32fb8",
    "ExecuteTime": {
     "end_time": "2024-06-18T20:47:02.687932277Z",
     "start_time": "2024-06-18T20:47:02.647111862Z"
    }
   },
   "source": [
    "# мы можем посмотреть размерность матрицы (количество строк и столбцов)\n",
    "data_matrix.shape"
   ],
   "execution_count": 9,
   "outputs": [
    {
     "data": {
      "text/plain": "(3, 3)"
     },
     "execution_count": 9,
     "metadata": {},
     "output_type": "execute_result"
    }
   ]
  },
  {
   "cell_type": "markdown",
   "metadata": {
    "id": "P1BzMhSL6nPc"
   },
   "source": [
    "### Скалярное произведение векторов (dot product)"
   ]
  },
  {
   "cell_type": "markdown",
   "metadata": {
    "id": "6xsjBTTiCbN2"
   },
   "source": [
    "Напомню формулу:\n",
    "\n",
    "  $$\\textbf{a}=(a_{1}, a_{2})$$\n",
    "  $$\\textbf{w}=(w_{1}, w_{2})$$\n",
    "  $$\\textbf{a}\\cdot\\textbf{w}=a_{1}w_{1}+a_{2}w_{2}$$"
   ]
  },
  {
   "cell_type": "code",
   "metadata": {
    "id": "oLKtgXZO6WBe"
   },
   "source": [
    "# даны два вектора в виде массивов Numpy\n",
    "\n",
    "a = np.array([1.72, 54]) # вектор данных\n",
    "w = np.array([19.86, 0.05]) # вектор весов"
   ],
   "execution_count": null,
   "outputs": []
  },
  {
   "cell_type": "code",
   "metadata": {
    "colab": {
     "base_uri": "https://localhost:8080/"
    },
    "id": "SvfwMrCN7AHp",
    "outputId": "ed41d1ed-23dc-4a3a-89fe-768ea22dd851"
   },
   "source": [
    "# перемножим их вручную\n",
    "1.72 * 19.86 + 54 * 0.05"
   ],
   "execution_count": null,
   "outputs": [
    {
     "output_type": "execute_result",
     "data": {
      "text/plain": [
       "36.8592"
      ]
     },
     "metadata": {},
     "execution_count": 8
    }
   ]
  },
  {
   "cell_type": "code",
   "metadata": {
    "colab": {
     "base_uri": "https://localhost:8080/"
    },
    "id": "ISUEBSne7FWX",
    "outputId": "41864280-0bf8-49a4-92e4-7264dbd9b121"
   },
   "source": [
    "# используем скалярное произведение векторов\n",
    "np.dot(a, w)"
   ],
   "execution_count": null,
   "outputs": [
    {
     "output_type": "execute_result",
     "data": {
      "text/plain": [
       "36.8592"
      ]
     },
     "metadata": {},
     "execution_count": 9
    }
   ]
  },
  {
   "cell_type": "markdown",
   "metadata": {
    "id": "1KeDIzMV9XyN"
   },
   "source": [
    "### Косинусное сходство между векторами"
   ]
  },
  {
   "cell_type": "markdown",
   "metadata": {
    "id": "-Wf32jTfA_H6"
   },
   "source": [
    "Первый шаг: найдем косинус угла по формуле $$ \\cos \\theta ={\\mathbf {b} \\cdot \\mathbf {c} \\over \\|\\mathbf {b} \\|\\|\\mathbf {c} \\|} $$"
   ]
  },
  {
   "cell_type": "code",
   "metadata": {
    "id": "m08mssyx8_Ye",
    "ExecuteTime": {
     "end_time": "2024-06-18T20:47:29.117643478Z",
     "start_time": "2024-06-18T20:47:29.092156305Z"
    }
   },
   "source": [
    "b = np.array([1.72, 54, 36.2])\n",
    "c = np.array([1.56, 47, 30.0])"
   ],
   "execution_count": 12,
   "outputs": []
  },
  {
   "cell_type": "code",
   "metadata": {
    "id": "Z5MmrsTs_pTy",
    "ExecuteTime": {
     "end_time": "2024-06-18T20:47:29.640202307Z",
     "start_time": "2024-06-18T20:47:29.623750339Z"
    }
   },
   "source": [
    "numerator = np.dot(b, c)"
   ],
   "execution_count": 13,
   "outputs": []
  },
  {
   "cell_type": "code",
   "metadata": {
    "id": "fdufBHKu_Fnc",
    "ExecuteTime": {
     "end_time": "2024-06-18T20:47:35.422055974Z",
     "start_time": "2024-06-18T20:47:35.375532487Z"
    }
   },
   "source": [
    "bLen = np.linalg.norm(b)\n",
    "cLen = np.linalg.norm(c)\n",
    "\n",
    "# (2) перемножим их\n",
    "denominator = bLen * cLen"
   ],
   "execution_count": 14,
   "outputs": []
  },
  {
   "cell_type": "code",
   "metadata": {
    "colab": {
     "base_uri": "https://localhost:8080/"
    },
    "id": "rwtu1Ivn_XeJ",
    "outputId": "65c4c173-fa84-4a3e-ddb5-4d24fcb5d848",
    "ExecuteTime": {
     "end_time": "2024-06-18T20:47:41.869820379Z",
     "start_time": "2024-06-18T20:47:41.846394599Z"
    }
   },
   "source": [
    "# посмотрим, чему равен косинус угла между векторами\n",
    "cosine = numerator/denominator\n",
    "cosine"
   ],
   "execution_count": 15,
   "outputs": [
    {
     "data": {
      "text/plain": "0.9997468709497721"
     },
     "execution_count": 15,
     "metadata": {},
     "output_type": "execute_result"
    }
   ]
  },
  {
   "cell_type": "markdown",
   "metadata": {
    "id": "59IBUJS7BLGe"
   },
   "source": [
    "Второй шаг: найдем угол в градусах по его косинусу"
   ]
  },
  {
   "cell_type": "code",
   "metadata": {
    "id": "_Do9SMzhAW9N",
    "ExecuteTime": {
     "end_time": "2024-06-18T20:47:45.689642475Z",
     "start_time": "2024-06-18T20:47:45.685598269Z"
    }
   },
   "source": [
    "# для этого вначале вычислим угол в радианах\n",
    "angle_radians = np.arccos(cosine)\n",
    "\n",
    "# затем в градусах\n",
    "angle_degrees = angle_radians * 360/2/np.pi"
   ],
   "execution_count": 16,
   "outputs": []
  },
  {
   "cell_type": "code",
   "metadata": {
    "colab": {
     "base_uri": "https://localhost:8080/"
    },
    "id": "3HdLzhUHB5PG",
    "outputId": "6efb355b-db1b-479d-9bee-48f4c672a6c1"
   },
   "source": [
    "angle_degrees"
   ],
   "execution_count": null,
   "outputs": [
    {
     "output_type": "execute_result",
     "data": {
      "text/plain": [
       "1.2891925481394304"
      ]
     },
     "metadata": {},
     "execution_count": 15
    }
   ]
  },
  {
   "cell_type": "markdown",
   "metadata": {
    "id": "dodmiVSKGLsf"
   },
   "source": [
    "### Упражнения"
   ]
  },
  {
   "cell_type": "code",
   "metadata": {
    "id": "MF0Kj8P-GNU-",
    "ExecuteTime": {
     "end_time": "2024-06-18T20:50:41.046002903Z",
     "start_time": "2024-06-18T20:50:40.998569194Z"
    }
   },
   "source": [
    "# даны два вектора\n",
    "v1 = np.array([37, 84, 110.2, 18.6])\n",
    "v2 = np.array([39, 14, 112.2, 58.6])"
   ],
   "execution_count": 31,
   "outputs": []
  },
  {
   "cell_type": "markdown",
   "source": [
    "#### Основы работы с массивами"
   ],
   "metadata": {
    "id": "xhsK7v1O9fyx"
   }
  },
  {
   "cell_type": "markdown",
   "source": [
    "**Задание 1**. Посмотрите с помощью Питона на тип данных любого из двух векторов."
   ],
   "metadata": {
    "id": "9ijkO72o9QJS"
   }
  },
  {
   "cell_type": "code",
   "metadata": {
    "id": "gdGx3bHNKu51",
    "ExecuteTime": {
     "end_time": "2024-06-18T20:50:09.406109676Z",
     "start_time": "2024-06-18T20:50:09.399239518Z"
    }
   },
   "source": [
    "print(type(v1))"
   ],
   "execution_count": 29,
   "outputs": [
    {
     "name": "stdout",
     "output_type": "stream",
     "text": [
      "<class 'numpy.ndarray'>\n"
     ]
    }
   ]
  },
  {
   "cell_type": "markdown",
   "source": [
    "**Задание 2**. Какая размерность у этих векторов?"
   ],
   "metadata": {
    "id": "J7LbwCj29Zl4"
   }
  },
  {
   "cell_type": "code",
   "metadata": {
    "id": "VtQ1wpgdKnZP",
    "ExecuteTime": {
     "end_time": "2024-06-18T20:50:11.738246373Z",
     "start_time": "2024-06-18T20:50:11.733851630Z"
    }
   },
   "source": [
    "v1.shape"
   ],
   "execution_count": 30,
   "outputs": [
    {
     "data": {
      "text/plain": "(2, 4)"
     },
     "execution_count": 30,
     "metadata": {},
     "output_type": "execute_result"
    }
   ]
  },
  {
   "cell_type": "markdown",
   "metadata": {
    "id": "K4Lh1OQCMijh"
   },
   "source": [
    "#### Скалярное произведение векторов"
   ]
  },
  {
   "cell_type": "markdown",
   "source": [
    "**Задание 3**. Перемножьте векторы `v1` и `v2` вручную."
   ],
   "metadata": {
    "id": "9RMXlYGE9lAs"
   }
  },
  {
   "cell_type": "code",
   "metadata": {
    "id": "fSIM8FiVMu6I",
    "ExecuteTime": {
     "end_time": "2024-06-18T20:52:03.533956813Z",
     "start_time": "2024-06-18T20:52:03.487975810Z"
    }
   },
   "source": [
    "print(np.dot(v1,v2))"
   ],
   "execution_count": 36,
   "outputs": [
    {
     "name": "stdout",
     "output_type": "stream",
     "text": [
      "16073.400000000001\n"
     ]
    }
   ]
  },
  {
   "cell_type": "markdown",
   "source": [
    "**Задание 4**. Используйте функцию **dot()**."
   ],
   "metadata": {
    "id": "vivmgULw9uDi"
   }
  },
  {
   "cell_type": "code",
   "metadata": {
    "id": "cmc6SgWXMykd",
    "ExecuteTime": {
     "end_time": "2024-06-18T20:53:49.377199871Z",
     "start_time": "2024-06-18T20:53:49.327657692Z"
    }
   },
   "source": [
    "numerator = np.dot(v1,v2)\n",
    "\n",
    "v1Len = np.linalg.norm(v1)\n",
    "v2Len = np.linalg.norm(v2)\n",
    "denominator = v1Len * v2Len\n",
    "print(numerator/denominator)"
   ],
   "execution_count": 39,
   "outputs": [
    {
     "name": "stdout",
     "output_type": "stream",
     "text": [
      "0.8344579537217223\n"
     ]
    }
   ]
  },
  {
   "cell_type": "markdown",
   "metadata": {
    "id": "ocls86JOM8kS"
   },
   "source": [
    "#### Косинусное сходство между векторами"
   ]
  },
  {
   "cell_type": "markdown",
   "source": [
    "**Задание 5**. Найдите угол в градусах между векторами `v1` и `v2`."
   ],
   "metadata": {
    "id": "kLRkxDh495dE"
   }
  },
  {
   "cell_type": "code",
   "metadata": {
    "id": "Xx8D1lLTNAw3"
   },
   "source": [],
   "execution_count": null,
   "outputs": []
  }
 ]
}
