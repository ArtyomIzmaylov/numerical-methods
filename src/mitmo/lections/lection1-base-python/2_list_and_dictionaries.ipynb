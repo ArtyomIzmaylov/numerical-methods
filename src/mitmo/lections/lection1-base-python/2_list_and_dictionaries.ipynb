{
  "nbformat": 4,
  "nbformat_minor": 0,
  "metadata": {
    "colab": {
      "provenance": [],
      "toc_visible": true
    },
    "kernelspec": {
      "name": "python3",
      "display_name": "Python 3"
    },
    "language_info": {
      "name": "python"
    }
  },
  "cells": [
    {
      "cell_type": "markdown",
      "metadata": {
        "id": "isHDXyTI6RAw"
      },
      "source": [
        "## Списки и словари"
      ]
    },
    {
      "cell_type": "markdown",
      "metadata": {
        "id": "-0wRhlfZRA-W"
      },
      "source": [
        "### Списки"
      ]
    },
    {
      "cell_type": "code",
      "metadata": {
        "id": "46HWpVpD6MbT"
      },
      "source": [
        "# список овощей, которые нужно купить\n",
        "veg_list = ['огурцы', 'помидоры', 'лук', 'картофель']"
      ],
      "execution_count": null,
      "outputs": []
    },
    {
      "cell_type": "code",
      "metadata": {
        "id": "OOp20w5a6Wgp"
      },
      "source": [
        "# их вес в килограммах\n",
        "kilo_list = [2, 3, 1, 2]"
      ],
      "execution_count": null,
      "outputs": []
    },
    {
      "cell_type": "code",
      "metadata": {
        "id": "3vaallVf7Ysj"
      },
      "source": [
        "# создадим новый пустой список\n",
        "new_list = []"
      ],
      "execution_count": null,
      "outputs": []
    },
    {
      "cell_type": "code",
      "metadata": {
        "id": "ayreY0ey7hIT",
        "colab": {
          "base_uri": "https://localhost:8080/"
        },
        "outputId": "022ffdad-d4a1-47e4-df34-eeebe0e7a142"
      },
      "source": [
        "# расширим список покупок, добавив в него болгарский перец\n",
        "\n",
        "# для этого вначале создадим новую переменную и запишем в нее новый продукт\n",
        "new_veg = 'морковь'\n",
        "\n",
        "# добавим его в наш список с помощью метода append()\n",
        "veg_list.append(new_veg)\n",
        "\n",
        "# посмотрим, что получилось\n",
        "print(veg_list)"
      ],
      "execution_count": null,
      "outputs": [
        {
          "output_type": "stream",
          "name": "stdout",
          "text": [
            "['огурцы', 'помидоры', 'лук', 'картофель', 'морковь']\n"
          ]
        }
      ]
    },
    {
      "cell_type": "code",
      "metadata": {
        "colab": {
          "base_uri": "https://localhost:8080/"
        },
        "id": "uVVyGtk5CZms",
        "outputId": "37fe031a-d79e-47e5-cb88-d6c5d8a0ebff"
      },
      "source": [
        "# индекс списка: выведем второй элемент списка покупок (он хранится под номером 1)\n",
        "print(veg_list[1])"
      ],
      "execution_count": null,
      "outputs": [
        {
          "output_type": "stream",
          "name": "stdout",
          "text": [
            "помидоры\n"
          ]
        }
      ]
    },
    {
      "cell_type": "markdown",
      "metadata": {
        "id": "OpBA-6rlREa9"
      },
      "source": [
        "### Словари"
      ]
    },
    {
      "cell_type": "code",
      "metadata": {
        "id": "tKoSqdChEAZE"
      },
      "source": [
        "# создадим словарь для списка покупок (каждому овощу соответствует количество в килограммах)\n",
        "shopping_dict = {\n",
        "  'огурцы': 2,\n",
        "  'помидоры': 3,\n",
        "  'лук': 1,\n",
        "  'картофель': 2\n",
        "}"
      ],
      "execution_count": null,
      "outputs": []
    },
    {
      "cell_type": "code",
      "metadata": {
        "id": "k4_9y3Q_UCnE"
      },
      "source": [
        "# добавим 2 кг моркови в наш словарь\n",
        "shopping_dict['морковь'] = 2"
      ],
      "execution_count": null,
      "outputs": []
    },
    {
      "cell_type": "code",
      "metadata": {
        "colab": {
          "base_uri": "https://localhost:8080/"
        },
        "id": "PGkpbIHTUaTo",
        "outputId": "195d29c8-71b9-4f42-ab98-30be2b32769d"
      },
      "source": [
        "# посмотрим, что получилось\n",
        "print(shopping_dict)"
      ],
      "execution_count": null,
      "outputs": [
        {
          "output_type": "stream",
          "name": "stdout",
          "text": [
            "{'огурцы': 2, 'помидоры': 3, 'лук': 1, 'картофель': 2, 'морковь': 2}\n"
          ]
        }
      ]
    },
    {
      "cell_type": "code",
      "metadata": {
        "colab": {
          "base_uri": "https://localhost:8080/"
        },
        "id": "mOIFtLQNUhME",
        "outputId": "eec4907a-23d0-4765-9757-e17deda9d184"
      },
      "source": [
        "# найдем количество картофеля, которое нужно купить\n",
        "print(shopping_dict['картофель'])"
      ],
      "execution_count": null,
      "outputs": [
        {
          "output_type": "stream",
          "name": "stdout",
          "text": [
            "2\n"
          ]
        }
      ]
    },
    {
      "cell_type": "code",
      "metadata": {
        "id": "cdAappB3RyIY"
      },
      "source": [
        "# создадим пустой словарь\n",
        "new_dict = {}"
      ],
      "execution_count": null,
      "outputs": []
    },
    {
      "cell_type": "markdown",
      "metadata": {
        "id": "GwodAU_DIiAw"
      },
      "source": [
        "### Упражнения"
      ]
    },
    {
      "cell_type": "markdown",
      "metadata": {
        "id": "Ftna4k0H2wrh"
      },
      "source": [
        "#### Списки"
      ]
    },
    {
      "cell_type": "markdown",
      "source": [
        "**Задание 1**. Создайте список `days`, записав в него дни недели с понедельника по субботу."
      ],
      "metadata": {
        "id": "_SgH0pLGiLPu"
      }
    },
    {
      "cell_type": "code",
      "metadata": {
        "id": "UdiHL0jLIjvw"
      },
      "source": [],
      "execution_count": null,
      "outputs": []
    },
    {
      "cell_type": "markdown",
      "source": [
        "**Задание 2**. Добавьте воскресенье."
      ],
      "metadata": {
        "id": "Ej4hqeFniV02"
      }
    },
    {
      "cell_type": "code",
      "metadata": {
        "id": "AV-x7LJ5Ztgx"
      },
      "source": [],
      "execution_count": null,
      "outputs": []
    },
    {
      "cell_type": "markdown",
      "source": [
        "**Задание 3**. Выведите \"понедельник\".\n",
        "\n",
        "Подсказка: не забывайте, с какого числа начинается индекс."
      ],
      "metadata": {
        "id": "y6DkK5jPidfr"
      }
    },
    {
      "cell_type": "code",
      "metadata": {
        "id": "660s4ZaFZ6J2"
      },
      "source": [],
      "execution_count": null,
      "outputs": []
    },
    {
      "cell_type": "markdown",
      "metadata": {
        "id": "S2mR5MT32zSV"
      },
      "source": [
        "#### Словари"
      ]
    },
    {
      "cell_type": "markdown",
      "source": [
        "**Задание 4**. Создайте словарь, где ключи - это дни недели, а значения - количество пройденных вами шагов.\n"
      ],
      "metadata": {
        "id": "o1UA4-8risYB"
      }
    },
    {
      "cell_type": "code",
      "metadata": {
        "id": "r6CNuCmGacuP"
      },
      "source": [],
      "execution_count": null,
      "outputs": []
    },
    {
      "cell_type": "markdown",
      "source": [
        "**Задание 5**. Напишите код, который выведет на экран, сколько шагов вы прошли во вторник."
      ],
      "metadata": {
        "id": "51jE5xoXi25M"
      }
    },
    {
      "cell_type": "code",
      "metadata": {
        "id": "W-Zj5-qKa2dS"
      },
      "source": [],
      "execution_count": null,
      "outputs": []
    }
  ]
}