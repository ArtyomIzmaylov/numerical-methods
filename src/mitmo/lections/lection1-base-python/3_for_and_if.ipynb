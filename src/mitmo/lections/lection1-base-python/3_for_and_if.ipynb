{
  "nbformat": 4,
  "nbformat_minor": 0,
  "metadata": {
    "colab": {
      "provenance": []
    },
    "kernelspec": {
      "name": "python3",
      "display_name": "Python 3"
    },
    "language_info": {
      "name": "python"
    }
  },
  "cells": [
    {
      "cell_type": "markdown",
      "metadata": {
        "id": "7itCdD35rjK0"
      },
      "source": [
        "## Условия и циклы"
      ]
    },
    {
      "cell_type": "markdown",
      "metadata": {
        "id": "ojWyjdH5rrdm"
      },
      "source": [
        "### Условия с if"
      ]
    },
    {
      "cell_type": "code",
      "metadata": {
        "id": "XQ4n90sWddxv",
        "colab": {
          "base_uri": "https://localhost:8080/"
        },
        "outputId": "1d07c8f8-cd25-48ad-ece5-d6d2e406fdea"
      },
      "source": [
        "# присваиваем переменной salary значение 75\n",
        "salary = 75\n",
        "# если значение salary больше либо равно 90 выдаем кредит\n",
        "if salary >= 90:\n",
        "  print('Выдать кредит')\n",
        "# в противном случае в кредите отказываем\n",
        "else:\n",
        "  print('В кредите отказать')"
      ],
      "execution_count": null,
      "outputs": [
        {
          "output_type": "stream",
          "name": "stdout",
          "text": [
            "В кредите отказать\n"
          ]
        }
      ]
    },
    {
      "cell_type": "markdown",
      "metadata": {
        "id": "VRtLxZ_zsIfU"
      },
      "source": [
        "### Цикл for"
      ]
    },
    {
      "cell_type": "code",
      "metadata": {
        "id": "Gwmv2NzAsCw5"
      },
      "source": [
        "# воспользуемся списком покупок из предыдущего занятия\n",
        "veg_list = ['огурцы', 'помидоры', 'лук', 'картофель']"
      ],
      "execution_count": null,
      "outputs": []
    },
    {
      "cell_type": "code",
      "metadata": {
        "colab": {
          "base_uri": "https://localhost:8080/"
        },
        "id": "FzPDj_7jsLq-",
        "outputId": "d22984e2-8cd5-432c-83fc-5ae95bfced1a"
      },
      "source": [
        "# в цикле выведем каждый из элементов списка один за другим\n",
        "for i in veg_list:\n",
        "  print(i)"
      ],
      "execution_count": null,
      "outputs": [
        {
          "output_type": "stream",
          "name": "stdout",
          "text": [
            "огурцы\n",
            "помидоры\n",
            "лук\n",
            "картофель\n"
          ]
        }
      ]
    },
    {
      "cell_type": "code",
      "metadata": {
        "id": "UgYxunhtsnul"
      },
      "source": [
        "# возьмем словарь из предыдущего занятия\n",
        "shopping_dict = {\n",
        "  'огурцы': 2,\n",
        "  'помидоры': 3,\n",
        "  'лук': 1,\n",
        "  'картофель': 2\n",
        "}"
      ],
      "execution_count": null,
      "outputs": []
    },
    {
      "cell_type": "code",
      "metadata": {
        "colab": {
          "base_uri": "https://localhost:8080/"
        },
        "id": "q5_-NtjPw9UB",
        "outputId": "ddcb1e01-95bd-49b0-cbb5-285b9465721c"
      },
      "source": [
        "# вывыдем все ключи и значения словаря с помощью цикла\n",
        "for k, v in shopping_dict.items():\n",
        "  print(k,v)"
      ],
      "execution_count": null,
      "outputs": [
        {
          "output_type": "stream",
          "name": "stdout",
          "text": [
            "огурцы 2\n",
            "помидоры 3\n",
            "лук 1\n",
            "картофель 2\n"
          ]
        }
      ]
    },
    {
      "cell_type": "code",
      "metadata": {
        "colab": {
          "base_uri": "https://localhost:8080/"
        },
        "id": "jnoVHDwf250m",
        "outputId": "dc4f07f8-ffb8-4075-8835-85a55b7771e3"
      },
      "source": [
        "# выведем только ключи\n",
        "for k in shopping_dict.keys():\n",
        "  print(k)"
      ],
      "execution_count": null,
      "outputs": [
        {
          "output_type": "stream",
          "name": "stdout",
          "text": [
            "огурцы\n",
            "помидоры\n",
            "лук\n",
            "картофель\n"
          ]
        }
      ]
    },
    {
      "cell_type": "code",
      "metadata": {
        "colab": {
          "base_uri": "https://localhost:8080/"
        },
        "id": "gk03r4eC3G0n",
        "outputId": "2f0a6c2b-d75f-49a8-d683-25abfa14977c"
      },
      "source": [
        "# выведем только значения\n",
        "for v in shopping_dict.values():\n",
        "  print(v)"
      ],
      "execution_count": null,
      "outputs": [
        {
          "output_type": "stream",
          "name": "stdout",
          "text": [
            "2\n",
            "3\n",
            "1\n",
            "2\n"
          ]
        }
      ]
    },
    {
      "cell_type": "markdown",
      "metadata": {
        "id": "90nzMI4eb_R7"
      },
      "source": [
        "### Упражнения"
      ]
    },
    {
      "cell_type": "markdown",
      "metadata": {
        "id": "yFvobYcLd6Wt"
      },
      "source": [
        "#### Условия с `if`"
      ]
    },
    {
      "cell_type": "markdown",
      "source": [
        "**Задание 1**. Создайте переменную `age` и запишите в нее число 25."
      ],
      "metadata": {
        "id": "x59nzqk3U48y"
      }
    },
    {
      "cell_type": "code",
      "metadata": {
        "id": "yBRUnnCacDA5"
      },
      "source": [],
      "execution_count": null,
      "outputs": []
    },
    {
      "cell_type": "markdown",
      "source": [
        "**Задание 2**. Напишите программу, которая выведет текст \"Продажа алкоголя разрешена\", если переменная `age` больше или равна 18, в противном случае на экране должно появиться \"Алкоголь не продавать\"."
      ],
      "metadata": {
        "id": "oT8OjcjdU_i-"
      }
    },
    {
      "cell_type": "code",
      "metadata": {
        "id": "36QQMuAbcQbs"
      },
      "source": [],
      "execution_count": null,
      "outputs": []
    },
    {
      "cell_type": "markdown",
      "metadata": {
        "id": "Jv41_0D8eSP5"
      },
      "source": [
        "#### Цикл `for` и списки"
      ]
    },
    {
      "cell_type": "markdown",
      "source": [
        "**Задание 3**. Возьмите список с днями недели из предыдущего занятия и в цикле `for` выведите все дни с понедельника по воскресенье."
      ],
      "metadata": {
        "id": "mE-lFeA7VPjt"
      }
    },
    {
      "cell_type": "code",
      "metadata": {
        "id": "Tw9SO4csdUw3"
      },
      "source": [],
      "execution_count": null,
      "outputs": []
    },
    {
      "cell_type": "markdown",
      "metadata": {
        "id": "oZiv1veAeXIE"
      },
      "source": [
        "#### Цикл `for` и словари"
      ]
    },
    {
      "cell_type": "markdown",
      "source": [
        "**Задание 4**. Возьмите словарь с днями недели и количеством шагов из предыдущего занятия и в цикле `for` выведите дни недели и соответствующее им количество шагов."
      ],
      "metadata": {
        "id": "kK0XokS7VhWL"
      }
    },
    {
      "cell_type": "code",
      "metadata": {
        "id": "_8a_p7mBet6L"
      },
      "source": [],
      "execution_count": null,
      "outputs": []
    }
  ]
}