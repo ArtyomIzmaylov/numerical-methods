{
  "nbformat": 4,
  "nbformat_minor": 0,
  "metadata": {
    "colab": {
      "provenance": [],
      "toc_visible": true
    },
    "kernelspec": {
      "name": "python3",
      "display_name": "Python 3"
    },
    "language_info": {
      "name": "python"
    }
  },
  "cells": [
    {
      "cell_type": "markdown",
      "metadata": {
        "id": "ETEvPb91zaZj"
      },
      "source": [
        "## Основы программирования"
      ]
    },
    {
      "cell_type": "markdown",
      "source": [
        "### Воспользуемся калькулятором"
      ],
      "metadata": {
        "id": "fbQND1CkPWg-"
      }
    },
    {
      "cell_type": "code",
      "metadata": {
        "colab": {
          "base_uri": "https://localhost:8080/"
        },
        "id": "eRU346jmiLOZ",
        "outputId": "68ebae12-ccdb-4231-9578-b4ba05f8c520"
      },
      "source": [
        "# Питон можно использовать как калькулятор: операция вычитания\n",
        "print(4 - 2)"
      ],
      "execution_count": null,
      "outputs": [
        {
          "output_type": "stream",
          "name": "stdout",
          "text": [
            "2\n"
          ]
        }
      ]
    },
    {
      "cell_type": "code",
      "metadata": {
        "colab": {
          "base_uri": "https://localhost:8080/"
        },
        "id": "wzocFKotiWY7",
        "outputId": "2d9470ef-b704-4a9d-b4ca-6802c5519e8e"
      },
      "source": [
        "# также доступно умножение\n",
        "print(3 * 5)"
      ],
      "execution_count": null,
      "outputs": [
        {
          "output_type": "stream",
          "name": "stdout",
          "text": [
            "15\n"
          ]
        }
      ]
    },
    {
      "cell_type": "code",
      "metadata": {
        "colab": {
          "base_uri": "https://localhost:8080/"
        },
        "id": "-5FVtPwXix8r",
        "outputId": "09eab145-0906-48da-bdca-72067a244c36"
      },
      "source": [
        "# деление\n",
        "print(15 / 3)"
      ],
      "execution_count": null,
      "outputs": [
        {
          "output_type": "stream",
          "name": "stdout",
          "text": [
            "5.0\n"
          ]
        }
      ]
    },
    {
      "cell_type": "code",
      "metadata": {
        "colab": {
          "base_uri": "https://localhost:8080/"
        },
        "id": "9Xli2V_Ni1-g",
        "outputId": "dacdcbd6-62e8-4516-ec4c-659eaad5d49c"
      },
      "source": [
        "# и возведение в степень\n",
        "print(2 ** 3)"
      ],
      "execution_count": null,
      "outputs": [
        {
          "output_type": "stream",
          "name": "stdout",
          "text": [
            "8\n"
          ]
        }
      ]
    },
    {
      "cell_type": "markdown",
      "metadata": {
        "id": "G5HG9Vq5zrZy"
      },
      "source": [
        "### Сравним значения"
      ]
    },
    {
      "cell_type": "code",
      "metadata": {
        "id": "QGtmFS3EjAKi",
        "colab": {
          "base_uri": "https://localhost:8080/"
        },
        "outputId": "d8e7bbe7-7c94-416a-b4a7-f8a9174b4887"
      },
      "source": [
        "# верное сравнение\n",
        "print(4 > 2)"
      ],
      "execution_count": null,
      "outputs": [
        {
          "output_type": "stream",
          "name": "stdout",
          "text": [
            "True\n"
          ]
        }
      ]
    },
    {
      "cell_type": "code",
      "metadata": {
        "colab": {
          "base_uri": "https://localhost:8080/"
        },
        "id": "h4TQmBtsz6uV",
        "outputId": "1df6c593-0466-4ee0-f182-e506d8ab6f72"
      },
      "source": [
        "# неверное сравнение\n",
        "print(4 < 2)"
      ],
      "execution_count": null,
      "outputs": [
        {
          "output_type": "stream",
          "name": "stdout",
          "text": [
            "False\n"
          ]
        }
      ]
    },
    {
      "cell_type": "code",
      "metadata": {
        "colab": {
          "base_uri": "https://localhost:8080/"
        },
        "id": "GYMr68OngM7T",
        "outputId": "ed4b3273-f799-42c3-b6cb-14e6f3f07210"
      },
      "source": [
        "# сравнение \"больше или равно\"\n",
        "print(4 >= 4)"
      ],
      "execution_count": null,
      "outputs": [
        {
          "output_type": "stream",
          "name": "stdout",
          "text": [
            "True\n"
          ]
        }
      ]
    },
    {
      "cell_type": "code",
      "metadata": {
        "colab": {
          "base_uri": "https://localhost:8080/"
        },
        "id": "6JcIPj_hgYSE",
        "outputId": "0ce1364d-e23f-4c48-e95e-6af8d948ebbd"
      },
      "source": [
        "# и \"меньше или равно\"\n",
        "print(2 <= 0)"
      ],
      "execution_count": null,
      "outputs": [
        {
          "output_type": "stream",
          "name": "stdout",
          "text": [
            "False\n"
          ]
        }
      ]
    },
    {
      "cell_type": "markdown",
      "metadata": {
        "id": "5hLT0TTj0BFi"
      },
      "source": [
        "### Сохраним информацию"
      ]
    },
    {
      "cell_type": "code",
      "metadata": {
        "colab": {
          "base_uri": "https://localhost:8080/"
        },
        "id": "ekglucF71YXj",
        "outputId": "faac23fb-e9ed-4127-a5a2-286a9ac75826"
      },
      "source": [
        "# переменной x присвоим значение 5\n",
        "x = 5\n",
        "\n",
        "# теперь мы можем использовать переменную вместо числа\n",
        "print(x * 2)"
      ],
      "execution_count": null,
      "outputs": [
        {
          "output_type": "stream",
          "name": "stdout",
          "text": [
            "10\n"
          ]
        }
      ]
    },
    {
      "cell_type": "code",
      "metadata": {
        "id": "Cgu6qJkP1eVj",
        "colab": {
          "base_uri": "https://localhost:8080/"
        },
        "outputId": "76f7e193-5725-451a-b80a-485a5f37371e"
      },
      "source": [
        "# также в переменную можно записывать строки (текст)\n",
        "y = 'Питон'\n",
        "\n",
        "# выведем строку\n",
        "print(y)"
      ],
      "execution_count": null,
      "outputs": [
        {
          "output_type": "stream",
          "name": "stdout",
          "text": [
            "Питон\n"
          ]
        }
      ]
    },
    {
      "cell_type": "code",
      "metadata": {
        "colab": {
          "base_uri": "https://localhost:8080/"
        },
        "id": "t1iVtJup1t5l",
        "outputId": "bd8e2141-e8b7-4e39-ff6a-b2ac71b32c95"
      },
      "source": [
        "# Питон умеет считать количество символов в строке. Функция len()\n",
        "print(len(y))"
      ],
      "execution_count": null,
      "outputs": [
        {
          "output_type": "stream",
          "name": "stdout",
          "text": [
            "5\n"
          ]
        }
      ]
    },
    {
      "cell_type": "code",
      "metadata": {
        "colab": {
          "base_uri": "https://localhost:8080/"
        },
        "id": "l2yJrA6D1--n",
        "outputId": "5613580a-3d56-4dc4-a01f-eccb9a2fc121"
      },
      "source": [
        "# выведем первую букву в слове \"Питон\" по ее индексу\n",
        "print(y[0])"
      ],
      "execution_count": null,
      "outputs": [
        {
          "output_type": "stream",
          "name": "stdout",
          "text": [
            "П\n"
          ]
        }
      ]
    },
    {
      "cell_type": "markdown",
      "metadata": {
        "id": "xUUpHZUWhWoC"
      },
      "source": [
        "### Присваивание и равенство"
      ]
    },
    {
      "cell_type": "code",
      "metadata": {
        "colab": {
          "base_uri": "https://localhost:8080/"
        },
        "id": "rRJw-WDQhWDo",
        "outputId": "f153c3ed-2fe1-48ab-b94f-0b14379a76c7"
      },
      "source": [
        "# одиночный знак равно \"=\" присваивает значение переменной\n",
        "z = 7\n",
        "print(z)"
      ],
      "execution_count": null,
      "outputs": [
        {
          "output_type": "stream",
          "name": "stdout",
          "text": [
            "7\n"
          ]
        }
      ]
    },
    {
      "cell_type": "code",
      "metadata": {
        "colab": {
          "base_uri": "https://localhost:8080/"
        },
        "id": "nPyztgMjh7hJ",
        "outputId": "99b38562-3cd0-4f20-ca11-a4d0b754cdf0"
      },
      "source": [
        "# двойной знак равно \"==\" означает равенство\n",
        "# по сути, мы просим Питон сравнить, верно ли равенство или нет\n",
        "print(7 == 7)"
      ],
      "execution_count": null,
      "outputs": [
        {
          "output_type": "stream",
          "name": "stdout",
          "text": [
            "True\n"
          ]
        }
      ]
    },
    {
      "cell_type": "code",
      "metadata": {
        "colab": {
          "base_uri": "https://localhost:8080/"
        },
        "id": "0Pxf1dufiMef",
        "outputId": "243880c6-d0b7-4e2c-8870-4aca9eb2d2d6"
      },
      "source": [
        "# тогда как\n",
        "print(5 == 7)"
      ],
      "execution_count": null,
      "outputs": [
        {
          "output_type": "stream",
          "name": "stdout",
          "text": [
            "False\n"
          ]
        }
      ]
    },
    {
      "cell_type": "markdown",
      "metadata": {
        "id": "UAzRKnuC6v4t"
      },
      "source": [
        "### Упражнения"
      ]
    },
    {
      "cell_type": "markdown",
      "source": [
        "**Задание 1**. Используя только одну команду `print()`, сложите числа 4 и 5, вычтите 3 и выведите результат."
      ],
      "metadata": {
        "id": "vy9glv1BPN_h"
      }
    },
    {
      "cell_type": "code",
      "metadata": {
        "id": "YMTG20GA6zVx"
      },
      "source": [],
      "execution_count": null,
      "outputs": []
    },
    {
      "cell_type": "markdown",
      "source": [
        "**Задание 2**. Верно ли, что число 18 меньше 27? Проверьте это с помощью Питона и выведите результат."
      ],
      "metadata": {
        "id": "DeLujQ7dPeUT"
      }
    },
    {
      "cell_type": "code",
      "metadata": {
        "id": "gOeFeFE47Q6F"
      },
      "source": [],
      "execution_count": null,
      "outputs": []
    },
    {
      "cell_type": "markdown",
      "source": [
        "**Задание 3**. Верно ли, что -2 меньше либо равно 0?"
      ],
      "metadata": {
        "id": "Zzyfg9F5QVD6"
      }
    },
    {
      "cell_type": "code",
      "metadata": {
        "id": "DE8WipDmgqWp"
      },
      "source": [],
      "execution_count": null,
      "outputs": []
    },
    {
      "cell_type": "markdown",
      "source": [
        "**Задание 4**. Создайте переменную `w` и запишите в нее значение 33. Используя переменную `w`, разделите 33 на 11 и выведите результат."
      ],
      "metadata": {
        "id": "8k9Eyb6gQecZ"
      }
    },
    {
      "cell_type": "code",
      "metadata": {
        "id": "70bI2aon8aPS"
      },
      "source": [],
      "execution_count": null,
      "outputs": []
    },
    {
      "cell_type": "markdown",
      "source": [
        "**Задание 5**. Запишите в переменную `v` следующую строку: \"Я уже программирую на Питоне\"."
      ],
      "metadata": {
        "id": "Ennt_AiaQstd"
      }
    },
    {
      "cell_type": "code",
      "metadata": {
        "id": "kKaPc1Xg7j-a"
      },
      "source": [],
      "execution_count": null,
      "outputs": []
    },
    {
      "cell_type": "markdown",
      "source": [
        "**Задание 6**. Сколько символов в строке, которую вы записали в переменную `v`?"
      ],
      "metadata": {
        "id": "_TPLY2iwQ3fH"
      }
    },
    {
      "cell_type": "code",
      "metadata": {
        "id": "lOfPQYHN9RAv"
      },
      "source": [],
      "execution_count": null,
      "outputs": []
    },
    {
      "cell_type": "markdown",
      "source": [
        "**Задание 7**. Снова возьмите строку из задания 5. Используя индекс, выведите букву \"ж\".\n",
        "\n",
        "Подсказка: помните, что индекс начинается с нуля и пробел - это тоже символ."
      ],
      "metadata": {
        "id": "5iMybCUDQ-wN"
      }
    },
    {
      "cell_type": "code",
      "metadata": {
        "id": "6hbNJkoa9cWH"
      },
      "source": [],
      "execution_count": null,
      "outputs": []
    },
    {
      "cell_type": "markdown",
      "source": [
        "**Задание 8**. Верно ли, что 5 равно 10?"
      ],
      "metadata": {
        "id": "xlJXjTLgRYDa"
      }
    },
    {
      "cell_type": "code",
      "metadata": {
        "id": "tL6Chbqr93Re"
      },
      "source": [],
      "execution_count": null,
      "outputs": []
    },
    {
      "cell_type": "markdown",
      "source": [
        "### Ответы на вопросы"
      ],
      "metadata": {
        "id": "VcXEuzqO7RZ3"
      }
    },
    {
      "cell_type": "markdown",
      "source": [
        "**Вопрос**. Чем отличается оператор равенства `==` от оператора тождественности `is`?"
      ],
      "metadata": {
        "id": "P37BLd8q7XJt"
      }
    },
    {
      "cell_type": "code",
      "source": [
        "# создадим список из трех чисел и поместим его в переменную a\n",
        "# (списки рассматриваются на следующем занятии)\n",
        "a = [1, 2, 3]\n",
        "\n",
        "# передадим этот список функции list(),\n",
        "# которая создаст новый объект(!) этого списка\n",
        "b = list(a)\n",
        "\n",
        "# значения списков равны,\n",
        "print(a == b)\n",
        "# но эти списки находятся в разных объектах в памяти\n",
        "print(a is b)"
      ],
      "metadata": {
        "colab": {
          "base_uri": "https://localhost:8080/"
        },
        "id": "RaifDNTY7TIV",
        "outputId": "5a51633f-2dbf-4ff8-bc17-6b4e916c9eec"
      },
      "execution_count": null,
      "outputs": [
        {
          "output_type": "stream",
          "name": "stdout",
          "text": [
            "True\n",
            "False\n"
          ]
        }
      ]
    },
    {
      "cell_type": "code",
      "source": [],
      "metadata": {
        "id": "38WPhKtk7vIq"
      },
      "execution_count": null,
      "outputs": []
    }
  ]
}