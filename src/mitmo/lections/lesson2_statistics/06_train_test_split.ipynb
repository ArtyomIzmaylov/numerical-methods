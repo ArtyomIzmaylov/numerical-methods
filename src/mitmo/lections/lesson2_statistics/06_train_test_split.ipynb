{
 "nbformat": 4,
 "nbformat_minor": 0,
 "metadata": {
  "colab": {
   "provenance": [],
   "toc_visible": true
  },
  "kernelspec": {
   "name": "python3",
   "language": "python",
   "display_name": "Python 3 (ipykernel)"
  },
  "language_info": {
   "name": "python"
  }
 },
 "cells": [
  {
   "cell_type": "markdown",
   "metadata": {
    "id": "W9E8T-SfRSAK"
   },
   "source": [
    "## На каких данных обучать модель"
   ]
  },
  {
   "cell_type": "markdown",
   "metadata": {
    "id": "dSZ2i3r5RWiz"
   },
   "source": [
    "### Разделение на обучающую и тестовую выборки в Scikit-learn"
   ]
  },
  {
   "cell_type": "code",
   "metadata": {
    "id": "UBkshAEeHYb3",
    "ExecuteTime": {
     "end_time": "2024-06-18T21:08:46.027339634Z",
     "start_time": "2024-06-18T21:08:46.025814931Z"
    }
   },
   "source": [
    "# возьмем данные роста (X) и обхвата шеи (y)\n",
    "X = [1.48, 1.49, 1.49, 1.50, 1.51, 1.52, 1.52, 1.53, 1.53, 1.54, 1.55, 1.56, 1.57, 1.57, 1.58, 1.58, 1.59, 1.60, 1.61, 1.62, 1.63, 1.64, 1.65, 1.65, 1.66, 1.67, 1.67, 1.68, 1.68,  1.69, 1.70, 1.70, 1.71, 1.71, 1.71, 1.74, 1.75, 1.76, 1.77, 1.77, 1.78]\n",
    "y = [29.1, 30.0, 30.1, 30.2, 30.4, 30.6, 30.8, 30.9, 31.0, 30.6, 30.7, 30.9, 31.0, 31.2, 31.3, 32.0, 31.4, 31.9, 32.4, 32.8, 32.8, 33.3, 33.6, 33.0, 33.9, 33.8, 35.0, 34.5, 34.7, 34.6, 34.2, 34.8, 35.5, 36.0, 36.2, 36.3, 36.6, 36.8, 36.8, 37.0, 38.5]"
   ],
   "execution_count": 1,
   "outputs": []
  },
  {
   "cell_type": "code",
   "metadata": {
    "id": "YrmQVqffaJSW",
    "ExecuteTime": {
     "end_time": "2024-06-18T21:08:55.895375234Z",
     "start_time": "2024-06-18T21:08:55.797577636Z"
    }
   },
   "source": [
    "# импортируем библиотеку Numpy\n",
    "import numpy as np\n",
    "\n",
    "# преобразуем наш список X сначала в одномерный массив Numpy, а затем добавим второе измерение\n",
    "X = np.array(X).reshape(-1, 1)\n",
    "\n",
    "# список y достаточно преобразовать в одномерный массив Numpy\n",
    "y = np.array(y)\n",
    "\n",
    "print(X)"
   ],
   "execution_count": 2,
   "outputs": [
    {
     "name": "stdout",
     "output_type": "stream",
     "text": [
      "[[1.48]\n",
      " [1.49]\n",
      " [1.49]\n",
      " [1.5 ]\n",
      " [1.51]\n",
      " [1.52]\n",
      " [1.52]\n",
      " [1.53]\n",
      " [1.53]\n",
      " [1.54]\n",
      " [1.55]\n",
      " [1.56]\n",
      " [1.57]\n",
      " [1.57]\n",
      " [1.58]\n",
      " [1.58]\n",
      " [1.59]\n",
      " [1.6 ]\n",
      " [1.61]\n",
      " [1.62]\n",
      " [1.63]\n",
      " [1.64]\n",
      " [1.65]\n",
      " [1.65]\n",
      " [1.66]\n",
      " [1.67]\n",
      " [1.67]\n",
      " [1.68]\n",
      " [1.68]\n",
      " [1.69]\n",
      " [1.7 ]\n",
      " [1.7 ]\n",
      " [1.71]\n",
      " [1.71]\n",
      " [1.71]\n",
      " [1.74]\n",
      " [1.75]\n",
      " [1.76]\n",
      " [1.77]\n",
      " [1.77]\n",
      " [1.78]]\n"
     ]
    }
   ]
  },
  {
   "cell_type": "code",
   "metadata": {
    "id": "IRygF5UGaMLi",
    "ExecuteTime": {
     "end_time": "2024-06-18T21:10:27.525849388Z",
     "start_time": "2024-06-18T21:10:26.859323232Z"
    }
   },
   "source": [
    "# из модуля model_selection библиотеки sklearn импортируем функцию train_test_split\n",
    "from sklearn.model_selection import train_test_split\n",
    "\n",
    "# разбиваем данные на четыре части\n",
    "# названия переменных могут быть любыми, но обычно используют именно их\n",
    "# также задаем размер тестовой выборки (30%) и точку отсчета для воспроизводимости\n",
    "X_train, X_test, y_train, y_test = train_test_split(X, y,\n",
    "                                                    test_size = 0.3,\n",
    "                                                    random_state = 42)\n",
    "\n"
   ],
   "execution_count": 3,
   "outputs": []
  },
  {
   "cell_type": "code",
   "metadata": {
    "colab": {
     "base_uri": "https://localhost:8080/"
    },
    "id": "DDu55g8rjqV6",
    "outputId": "6a809c6e-84c0-4287-e080-521739206ba6",
    "ExecuteTime": {
     "end_time": "2024-06-18T21:10:28.830609576Z",
     "start_time": "2024-06-18T21:10:28.822065349Z"
    }
   },
   "source": [
    "# посмотрим на размер массива признаков (X)\n",
    "X.shape"
   ],
   "execution_count": 5,
   "outputs": [
    {
     "data": {
      "text/plain": "(41, 1)"
     },
     "execution_count": 5,
     "metadata": {},
     "output_type": "execute_result"
    }
   ]
  },
  {
   "cell_type": "code",
   "metadata": {
    "colab": {
     "base_uri": "https://localhost:8080/"
    },
    "id": "2zT8-t7Ojukx",
    "outputId": "af2b4dec-1f22-463a-e202-7567f2738ac4",
    "ExecuteTime": {
     "end_time": "2024-06-18T21:11:10.086659028Z",
     "start_time": "2024-06-18T21:11:10.041321662Z"
    }
   },
   "source": [
    "# теперь посмотрим, что сделала функция train_test_split\n",
    "print(X_train.shape, X_test.shape)"
   ],
   "execution_count": 6,
   "outputs": [
    {
     "name": "stdout",
     "output_type": "stream",
     "text": [
      "(28, 1) (13, 1)\n"
     ]
    }
   ]
  },
  {
   "cell_type": "code",
   "metadata": {
    "colab": {
     "base_uri": "https://localhost:8080/"
    },
    "id": "sWQUkNavtS1M",
    "outputId": "9d18b5d2-89c1-4697-a8e7-74623da5a41d",
    "ExecuteTime": {
     "end_time": "2024-06-18T21:11:15.936752949Z",
     "start_time": "2024-06-18T21:11:15.904102737Z"
    }
   },
   "source": [
    "# то же самое для данных окружности шеи (целевой переменной y)\n",
    "print(y.shape, y_train.shape, y_test.shape)"
   ],
   "execution_count": 7,
   "outputs": [
    {
     "name": "stdout",
     "output_type": "stream",
     "text": [
      "(41,) (28,) (13,)\n"
     ]
    }
   ]
  },
  {
   "cell_type": "markdown",
   "metadata": {
    "id": "Sytz_ErHl_JD"
   },
   "source": [
    "### Построение модели линейной регрессии"
   ]
  },
  {
   "cell_type": "code",
   "metadata": {
    "colab": {
     "base_uri": "https://localhost:8080/",
     "height": 74
    },
    "id": "z0wvPkLUjxSh",
    "outputId": "a23fea35-3259-47b9-d5dd-5ac3218014a2",
    "ExecuteTime": {
     "end_time": "2024-06-18T21:14:23.081288513Z",
     "start_time": "2024-06-18T21:14:22.983569646Z"
    }
   },
   "source": [
    "# из набора линейных моделей библиотеки sklearn импортируем линейную регрессию\n",
    "from sklearn.linear_model import LinearRegression\n",
    "\n",
    "# создадим объект этого класса и запишем в переменную model\n",
    "model = LinearRegression()\n",
    "\n",
    "# обучим нашу модель\n",
    "# т.е. найдем те самые веса или наклон и сдвиг прямой с помощью функции потерь\n",
    "# только теперь используем только обучающую выборку\n",
    "model.fit(X_train, y_train)"
   ],
   "execution_count": 11,
   "outputs": [
    {
     "data": {
      "text/plain": "LinearRegression()",
      "text/html": "<style>#sk-container-id-2 {\n  /* Definition of color scheme common for light and dark mode */\n  --sklearn-color-text: black;\n  --sklearn-color-line: gray;\n  /* Definition of color scheme for unfitted estimators */\n  --sklearn-color-unfitted-level-0: #fff5e6;\n  --sklearn-color-unfitted-level-1: #f6e4d2;\n  --sklearn-color-unfitted-level-2: #ffe0b3;\n  --sklearn-color-unfitted-level-3: chocolate;\n  /* Definition of color scheme for fitted estimators */\n  --sklearn-color-fitted-level-0: #f0f8ff;\n  --sklearn-color-fitted-level-1: #d4ebff;\n  --sklearn-color-fitted-level-2: #b3dbfd;\n  --sklearn-color-fitted-level-3: cornflowerblue;\n\n  /* Specific color for light theme */\n  --sklearn-color-text-on-default-background: var(--sg-text-color, var(--theme-code-foreground, var(--jp-content-font-color1, black)));\n  --sklearn-color-background: var(--sg-background-color, var(--theme-background, var(--jp-layout-color0, white)));\n  --sklearn-color-border-box: var(--sg-text-color, var(--theme-code-foreground, var(--jp-content-font-color1, black)));\n  --sklearn-color-icon: #696969;\n\n  @media (prefers-color-scheme: dark) {\n    /* Redefinition of color scheme for dark theme */\n    --sklearn-color-text-on-default-background: var(--sg-text-color, var(--theme-code-foreground, var(--jp-content-font-color1, white)));\n    --sklearn-color-background: var(--sg-background-color, var(--theme-background, var(--jp-layout-color0, #111)));\n    --sklearn-color-border-box: var(--sg-text-color, var(--theme-code-foreground, var(--jp-content-font-color1, white)));\n    --sklearn-color-icon: #878787;\n  }\n}\n\n#sk-container-id-2 {\n  color: var(--sklearn-color-text);\n}\n\n#sk-container-id-2 pre {\n  padding: 0;\n}\n\n#sk-container-id-2 input.sk-hidden--visually {\n  border: 0;\n  clip: rect(1px 1px 1px 1px);\n  clip: rect(1px, 1px, 1px, 1px);\n  height: 1px;\n  margin: -1px;\n  overflow: hidden;\n  padding: 0;\n  position: absolute;\n  width: 1px;\n}\n\n#sk-container-id-2 div.sk-dashed-wrapped {\n  border: 1px dashed var(--sklearn-color-line);\n  margin: 0 0.4em 0.5em 0.4em;\n  box-sizing: border-box;\n  padding-bottom: 0.4em;\n  background-color: var(--sklearn-color-background);\n}\n\n#sk-container-id-2 div.sk-container {\n  /* jupyter's `normalize.less` sets `[hidden] { display: none; }`\n     but bootstrap.min.css set `[hidden] { display: none !important; }`\n     so we also need the `!important` here to be able to override the\n     default hidden behavior on the sphinx rendered scikit-learn.org.\n     See: https://github.com/scikit-learn/scikit-learn/issues/21755 */\n  display: inline-block !important;\n  position: relative;\n}\n\n#sk-container-id-2 div.sk-text-repr-fallback {\n  display: none;\n}\n\ndiv.sk-parallel-item,\ndiv.sk-serial,\ndiv.sk-item {\n  /* draw centered vertical line to link estimators */\n  background-image: linear-gradient(var(--sklearn-color-text-on-default-background), var(--sklearn-color-text-on-default-background));\n  background-size: 2px 100%;\n  background-repeat: no-repeat;\n  background-position: center center;\n}\n\n/* Parallel-specific style estimator block */\n\n#sk-container-id-2 div.sk-parallel-item::after {\n  content: \"\";\n  width: 100%;\n  border-bottom: 2px solid var(--sklearn-color-text-on-default-background);\n  flex-grow: 1;\n}\n\n#sk-container-id-2 div.sk-parallel {\n  display: flex;\n  align-items: stretch;\n  justify-content: center;\n  background-color: var(--sklearn-color-background);\n  position: relative;\n}\n\n#sk-container-id-2 div.sk-parallel-item {\n  display: flex;\n  flex-direction: column;\n}\n\n#sk-container-id-2 div.sk-parallel-item:first-child::after {\n  align-self: flex-end;\n  width: 50%;\n}\n\n#sk-container-id-2 div.sk-parallel-item:last-child::after {\n  align-self: flex-start;\n  width: 50%;\n}\n\n#sk-container-id-2 div.sk-parallel-item:only-child::after {\n  width: 0;\n}\n\n/* Serial-specific style estimator block */\n\n#sk-container-id-2 div.sk-serial {\n  display: flex;\n  flex-direction: column;\n  align-items: center;\n  background-color: var(--sklearn-color-background);\n  padding-right: 1em;\n  padding-left: 1em;\n}\n\n\n/* Toggleable style: style used for estimator/Pipeline/ColumnTransformer box that is\nclickable and can be expanded/collapsed.\n- Pipeline and ColumnTransformer use this feature and define the default style\n- Estimators will overwrite some part of the style using the `sk-estimator` class\n*/\n\n/* Pipeline and ColumnTransformer style (default) */\n\n#sk-container-id-2 div.sk-toggleable {\n  /* Default theme specific background. It is overwritten whether we have a\n  specific estimator or a Pipeline/ColumnTransformer */\n  background-color: var(--sklearn-color-background);\n}\n\n/* Toggleable label */\n#sk-container-id-2 label.sk-toggleable__label {\n  cursor: pointer;\n  display: block;\n  width: 100%;\n  margin-bottom: 0;\n  padding: 0.5em;\n  box-sizing: border-box;\n  text-align: center;\n}\n\n#sk-container-id-2 label.sk-toggleable__label-arrow:before {\n  /* Arrow on the left of the label */\n  content: \"▸\";\n  float: left;\n  margin-right: 0.25em;\n  color: var(--sklearn-color-icon);\n}\n\n#sk-container-id-2 label.sk-toggleable__label-arrow:hover:before {\n  color: var(--sklearn-color-text);\n}\n\n/* Toggleable content - dropdown */\n\n#sk-container-id-2 div.sk-toggleable__content {\n  max-height: 0;\n  max-width: 0;\n  overflow: hidden;\n  text-align: left;\n  /* unfitted */\n  background-color: var(--sklearn-color-unfitted-level-0);\n}\n\n#sk-container-id-2 div.sk-toggleable__content.fitted {\n  /* fitted */\n  background-color: var(--sklearn-color-fitted-level-0);\n}\n\n#sk-container-id-2 div.sk-toggleable__content pre {\n  margin: 0.2em;\n  border-radius: 0.25em;\n  color: var(--sklearn-color-text);\n  /* unfitted */\n  background-color: var(--sklearn-color-unfitted-level-0);\n}\n\n#sk-container-id-2 div.sk-toggleable__content.fitted pre {\n  /* unfitted */\n  background-color: var(--sklearn-color-fitted-level-0);\n}\n\n#sk-container-id-2 input.sk-toggleable__control:checked~div.sk-toggleable__content {\n  /* Expand drop-down */\n  max-height: 200px;\n  max-width: 100%;\n  overflow: auto;\n}\n\n#sk-container-id-2 input.sk-toggleable__control:checked~label.sk-toggleable__label-arrow:before {\n  content: \"▾\";\n}\n\n/* Pipeline/ColumnTransformer-specific style */\n\n#sk-container-id-2 div.sk-label input.sk-toggleable__control:checked~label.sk-toggleable__label {\n  color: var(--sklearn-color-text);\n  background-color: var(--sklearn-color-unfitted-level-2);\n}\n\n#sk-container-id-2 div.sk-label.fitted input.sk-toggleable__control:checked~label.sk-toggleable__label {\n  background-color: var(--sklearn-color-fitted-level-2);\n}\n\n/* Estimator-specific style */\n\n/* Colorize estimator box */\n#sk-container-id-2 div.sk-estimator input.sk-toggleable__control:checked~label.sk-toggleable__label {\n  /* unfitted */\n  background-color: var(--sklearn-color-unfitted-level-2);\n}\n\n#sk-container-id-2 div.sk-estimator.fitted input.sk-toggleable__control:checked~label.sk-toggleable__label {\n  /* fitted */\n  background-color: var(--sklearn-color-fitted-level-2);\n}\n\n#sk-container-id-2 div.sk-label label.sk-toggleable__label,\n#sk-container-id-2 div.sk-label label {\n  /* The background is the default theme color */\n  color: var(--sklearn-color-text-on-default-background);\n}\n\n/* On hover, darken the color of the background */\n#sk-container-id-2 div.sk-label:hover label.sk-toggleable__label {\n  color: var(--sklearn-color-text);\n  background-color: var(--sklearn-color-unfitted-level-2);\n}\n\n/* Label box, darken color on hover, fitted */\n#sk-container-id-2 div.sk-label.fitted:hover label.sk-toggleable__label.fitted {\n  color: var(--sklearn-color-text);\n  background-color: var(--sklearn-color-fitted-level-2);\n}\n\n/* Estimator label */\n\n#sk-container-id-2 div.sk-label label {\n  font-family: monospace;\n  font-weight: bold;\n  display: inline-block;\n  line-height: 1.2em;\n}\n\n#sk-container-id-2 div.sk-label-container {\n  text-align: center;\n}\n\n/* Estimator-specific */\n#sk-container-id-2 div.sk-estimator {\n  font-family: monospace;\n  border: 1px dotted var(--sklearn-color-border-box);\n  border-radius: 0.25em;\n  box-sizing: border-box;\n  margin-bottom: 0.5em;\n  /* unfitted */\n  background-color: var(--sklearn-color-unfitted-level-0);\n}\n\n#sk-container-id-2 div.sk-estimator.fitted {\n  /* fitted */\n  background-color: var(--sklearn-color-fitted-level-0);\n}\n\n/* on hover */\n#sk-container-id-2 div.sk-estimator:hover {\n  /* unfitted */\n  background-color: var(--sklearn-color-unfitted-level-2);\n}\n\n#sk-container-id-2 div.sk-estimator.fitted:hover {\n  /* fitted */\n  background-color: var(--sklearn-color-fitted-level-2);\n}\n\n/* Specification for estimator info (e.g. \"i\" and \"?\") */\n\n/* Common style for \"i\" and \"?\" */\n\n.sk-estimator-doc-link,\na:link.sk-estimator-doc-link,\na:visited.sk-estimator-doc-link {\n  float: right;\n  font-size: smaller;\n  line-height: 1em;\n  font-family: monospace;\n  background-color: var(--sklearn-color-background);\n  border-radius: 1em;\n  height: 1em;\n  width: 1em;\n  text-decoration: none !important;\n  margin-left: 1ex;\n  /* unfitted */\n  border: var(--sklearn-color-unfitted-level-1) 1pt solid;\n  color: var(--sklearn-color-unfitted-level-1);\n}\n\n.sk-estimator-doc-link.fitted,\na:link.sk-estimator-doc-link.fitted,\na:visited.sk-estimator-doc-link.fitted {\n  /* fitted */\n  border: var(--sklearn-color-fitted-level-1) 1pt solid;\n  color: var(--sklearn-color-fitted-level-1);\n}\n\n/* On hover */\ndiv.sk-estimator:hover .sk-estimator-doc-link:hover,\n.sk-estimator-doc-link:hover,\ndiv.sk-label-container:hover .sk-estimator-doc-link:hover,\n.sk-estimator-doc-link:hover {\n  /* unfitted */\n  background-color: var(--sklearn-color-unfitted-level-3);\n  color: var(--sklearn-color-background);\n  text-decoration: none;\n}\n\ndiv.sk-estimator.fitted:hover .sk-estimator-doc-link.fitted:hover,\n.sk-estimator-doc-link.fitted:hover,\ndiv.sk-label-container:hover .sk-estimator-doc-link.fitted:hover,\n.sk-estimator-doc-link.fitted:hover {\n  /* fitted */\n  background-color: var(--sklearn-color-fitted-level-3);\n  color: var(--sklearn-color-background);\n  text-decoration: none;\n}\n\n/* Span, style for the box shown on hovering the info icon */\n.sk-estimator-doc-link span {\n  display: none;\n  z-index: 9999;\n  position: relative;\n  font-weight: normal;\n  right: .2ex;\n  padding: .5ex;\n  margin: .5ex;\n  width: min-content;\n  min-width: 20ex;\n  max-width: 50ex;\n  color: var(--sklearn-color-text);\n  box-shadow: 2pt 2pt 4pt #999;\n  /* unfitted */\n  background: var(--sklearn-color-unfitted-level-0);\n  border: .5pt solid var(--sklearn-color-unfitted-level-3);\n}\n\n.sk-estimator-doc-link.fitted span {\n  /* fitted */\n  background: var(--sklearn-color-fitted-level-0);\n  border: var(--sklearn-color-fitted-level-3);\n}\n\n.sk-estimator-doc-link:hover span {\n  display: block;\n}\n\n/* \"?\"-specific style due to the `<a>` HTML tag */\n\n#sk-container-id-2 a.estimator_doc_link {\n  float: right;\n  font-size: 1rem;\n  line-height: 1em;\n  font-family: monospace;\n  background-color: var(--sklearn-color-background);\n  border-radius: 1rem;\n  height: 1rem;\n  width: 1rem;\n  text-decoration: none;\n  /* unfitted */\n  color: var(--sklearn-color-unfitted-level-1);\n  border: var(--sklearn-color-unfitted-level-1) 1pt solid;\n}\n\n#sk-container-id-2 a.estimator_doc_link.fitted {\n  /* fitted */\n  border: var(--sklearn-color-fitted-level-1) 1pt solid;\n  color: var(--sklearn-color-fitted-level-1);\n}\n\n/* On hover */\n#sk-container-id-2 a.estimator_doc_link:hover {\n  /* unfitted */\n  background-color: var(--sklearn-color-unfitted-level-3);\n  color: var(--sklearn-color-background);\n  text-decoration: none;\n}\n\n#sk-container-id-2 a.estimator_doc_link.fitted:hover {\n  /* fitted */\n  background-color: var(--sklearn-color-fitted-level-3);\n}\n</style><div id=\"sk-container-id-2\" class=\"sk-top-container\"><div class=\"sk-text-repr-fallback\"><pre>LinearRegression()</pre><b>In a Jupyter environment, please rerun this cell to show the HTML representation or trust the notebook. <br />On GitHub, the HTML representation is unable to render, please try loading this page with nbviewer.org.</b></div><div class=\"sk-container\" hidden><div class=\"sk-item\"><div class=\"sk-estimator fitted sk-toggleable\"><input class=\"sk-toggleable__control sk-hidden--visually\" id=\"sk-estimator-id-2\" type=\"checkbox\" checked><label for=\"sk-estimator-id-2\" class=\"sk-toggleable__label fitted sk-toggleable__label-arrow fitted\">&nbsp;&nbsp;LinearRegression<a class=\"sk-estimator-doc-link fitted\" rel=\"noreferrer\" target=\"_blank\" href=\"https://scikit-learn.org/1.4/modules/generated/sklearn.linear_model.LinearRegression.html\">?<span>Documentation for LinearRegression</span></a><span class=\"sk-estimator-doc-link fitted\">i<span>Fitted</span></span></label><div class=\"sk-toggleable__content fitted\"><pre>LinearRegression()</pre></div> </div></div></div></div>"
     },
     "execution_count": 11,
     "metadata": {},
     "output_type": "execute_result"
    }
   ]
  },
  {
   "cell_type": "code",
   "metadata": {
    "colab": {
     "base_uri": "https://localhost:8080/"
    },
    "id": "qMnc0sk7mXzS",
    "outputId": "1e804d98-21d8-4460-896e-a6aa60f30305",
    "ExecuteTime": {
     "end_time": "2024-06-18T21:18:38.135890604Z",
     "start_time": "2024-06-18T21:18:38.086478308Z"
    }
   },
   "source": [
    "y_pred = model.predict(X_test)\n",
    "print(y_pred[:2])"
   ],
   "execution_count": 24,
   "outputs": []
  },
  {
   "cell_type": "code",
   "metadata": {
    "colab": {
     "base_uri": "https://localhost:8080/"
    },
    "id": "Oxg7AtdxmzgB",
    "outputId": "7e05c5d7-f21e-47a2-81a6-3c9657ee6eff",
    "ExecuteTime": {
     "end_time": "2024-06-18T21:19:14.964526623Z",
     "start_time": "2024-06-18T21:19:14.903420638Z"
    }
   },
   "source": [
    "from sklearn import metrics\n",
    "print('Root Mean Squaredd Error(корень квадртаной ошибки', np.sqrt(metrics.mean_squared_error(y_test, y_pred)))"
   ],
   "execution_count": 25,
   "outputs": [
    {
     "name": "stdout",
     "output_type": "stream",
     "text": [
      "Root Mean Squaredd Error(корень квадртаной ошибки 0.5604831734149255\n"
     ]
    }
   ]
  },
  {
   "cell_type": "code",
   "metadata": {
    "colab": {
     "base_uri": "https://localhost:8080/"
    },
    "id": "7DzoDmu4nDxq",
    "outputId": "2a9c1ff2-1dfd-4a9c-9e38-5a97d315fbc8"
   },
   "source": [],
   "execution_count": null,
   "outputs": [
    {
     "output_type": "stream",
     "name": "stdout",
     "text": [
      "Root Mean Squared Error (RMSE): 0.5604831734149255\n"
     ]
    }
   ]
  },
  {
   "cell_type": "markdown",
   "metadata": {
    "id": "IuFWY4xjpjv3"
   },
   "source": [
    "### Упражнения"
   ]
  },
  {
   "cell_type": "markdown",
   "metadata": {
    "id": "_BFjhuX1O4UR"
   },
   "source": [
    "Снова используем кривую спроса из предыдущих упражнений."
   ]
  },
  {
   "cell_type": "code",
   "metadata": {
    "id": "-blfy2eqnmNQ"
   },
   "source": [
    "prices = [10, 20, 30, 40, 50, 60, 70, 80, 90, 100, 110, 120, 130, 140, 150, 160, 170, 180, 190]\n",
    "demand = [180, 170, 150, 140, 135, 128, 120, 115, 114, 108, 100, 97, 96, 95, 90, 85, 80, 80, 80]"
   ],
   "execution_count": null,
   "outputs": []
  },
  {
   "cell_type": "markdown",
   "metadata": {
    "id": "gndUP5MgRS7X"
   },
   "source": [
    "#### Обучающая и тестовая выборки"
   ]
  },
  {
   "cell_type": "markdown",
   "source": [
    "**Задание 1**. Преобразуйте данные в массивы Numpy (двумерный для X и одномерный для y)."
   ],
   "metadata": {
    "id": "mwUZy3oE-kzV"
   }
  },
  {
   "cell_type": "code",
   "metadata": {
    "id": "FLAINARzPE71"
   },
   "source": [],
   "execution_count": null,
   "outputs": []
  },
  {
   "cell_type": "markdown",
   "source": [
    "**Задание 2**. Разбейте данные на обучающую и тестовую выборки."
   ],
   "metadata": {
    "id": "qBeojDe7_RlK"
   }
  },
  {
   "cell_type": "code",
   "metadata": {
    "id": "eBVLwmsjPM3w"
   },
   "source": [],
   "execution_count": null,
   "outputs": []
  },
  {
   "cell_type": "markdown",
   "source": [
    "**Задание 3**. Посмотрите на получившуюся размерность."
   ],
   "metadata": {
    "id": "Bc0NkC1U_YrP"
   }
  },
  {
   "cell_type": "code",
   "metadata": {
    "id": "4wlHTw6fQl-X"
   },
   "source": [],
   "execution_count": null,
   "outputs": []
  },
  {
   "cell_type": "markdown",
   "metadata": {
    "id": "S_mZyzcBROJ1"
   },
   "source": [
    "#### Модель линейной регрессии"
   ]
  },
  {
   "cell_type": "markdown",
   "source": [
    "**Задание 4**. Создайте объект класса LinearRegression()."
   ],
   "metadata": {
    "id": "bcjoAW04_oWs"
   }
  },
  {
   "cell_type": "code",
   "metadata": {
    "id": "TMYOx5CiRNf5"
   },
   "source": [],
   "execution_count": null,
   "outputs": []
  },
  {
   "cell_type": "markdown",
   "source": [
    "**Задание 5**. Обучите модель.\n",
    "\n",
    "Подсказка: используйте метод **.fit()**."
   ],
   "metadata": {
    "id": "smTMpoIh_vB2"
   }
  },
  {
   "cell_type": "code",
   "metadata": {
    "id": "kgHmZ4xrQ5zX"
   },
   "source": [],
   "execution_count": null,
   "outputs": []
  },
  {
   "cell_type": "markdown",
   "source": [
    "**Задание 6**. Выведите коэффициенты (наклон и сдвиг)."
   ],
   "metadata": {
    "id": "lLKUzAgn_6lg"
   }
  },
  {
   "cell_type": "code",
   "metadata": {
    "id": "YtG-O2ScQ_-C"
   },
   "source": [],
   "execution_count": null,
   "outputs": []
  },
  {
   "cell_type": "markdown",
   "source": [
    "**Задание 7**. Сделайте прогноз и выведите первые три прогнозных значения.\n",
    "\n",
    "Подсказка: используйте метод **.predict()**."
   ],
   "metadata": {
    "id": "aXlI05l_AE46"
   }
  },
  {
   "cell_type": "code",
   "metadata": {
    "id": "B9U9zmatRu__"
   },
   "source": [],
   "execution_count": null,
   "outputs": []
  },
  {
   "cell_type": "markdown",
   "source": [
    "**Задание 8**. Посчитайте корень среднеквадратической ошибки (RMSE)."
   ],
   "metadata": {
    "id": "Y5Pgy4TUAWvU"
   }
  },
  {
   "cell_type": "code",
   "metadata": {
    "id": "rigddalIR_Eo"
   },
   "source": [],
   "execution_count": null,
   "outputs": []
  }
 ]
}
