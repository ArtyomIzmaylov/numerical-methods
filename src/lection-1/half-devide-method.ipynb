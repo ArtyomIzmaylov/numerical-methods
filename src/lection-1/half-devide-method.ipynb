{
 "cells": [
  {
   "cell_type": "code",
   "execution_count": 1,
   "id": "initial_id",
   "metadata": {
    "collapsed": true,
    "ExecuteTime": {
     "end_time": "2024-06-15T18:34:22.116315142Z",
     "start_time": "2024-06-15T18:34:22.045944015Z"
    }
   },
   "outputs": [
    {
     "name": "stdout",
     "output_type": "stream",
     "text": [
      "Найден корень x = 2.98, число итераций - 4\n"
     ]
    }
   ],
   "source": [
    "import math\n",
    "\n",
    "from numpy import zeros\n",
    "\n",
    "\n",
    "def f(x):\n",
    "    return (x - 1) * (x - 2) ** 2 * (x - 3) ** 3 math.sin()\n",
    "\n",
    "\n",
    "eps = 0.1\n",
    "N_max = 50\n",
    "x = zeros(N_max)\n",
    "\n",
    "x[0] = 2.5\n",
    "x[1] = 3.6\n",
    "\n",
    "n = 1\n",
    "while abs(x[n] - x[n - 1]) > eps:\n",
    "    x[n + 1] = (x[n] + x[n - 1]) / 2\n",
    "    if f(x[n + 1]) * f(x[n - 1]) < 0:\n",
    "        x[n] = x[n - 1]\n",
    "    elif f(x[n + 1]) == 0:\n",
    "        n = n + 1\n",
    "        break\n",
    "    n = n + 1\n",
    "\n",
    "print('Найден корень x = {0:.2f}, число итераций - {1}'.format(x[n], n - 1))\n",
    "\n",
    "# Листинг программы, реализующей решение нелинейного уравнения f(x)=0\n",
    "# с помощью метода дихот\n"
   ]
  },
  {
   "cell_type": "code",
   "outputs": [],
   "source": [],
   "metadata": {
    "collapsed": false
   },
   "id": "6fc90e063529b784"
  }
 ],
 "metadata": {
  "kernelspec": {
   "display_name": "Python 3",
   "language": "python",
   "name": "python3"
  },
  "language_info": {
   "codemirror_mode": {
    "name": "ipython",
    "version": 2
   },
   "file_extension": ".py",
   "mimetype": "text/x-python",
   "name": "python",
   "nbconvert_exporter": "python",
   "pygments_lexer": "ipython2",
   "version": "2.7.6"
  }
 },
 "nbformat": 4,
 "nbformat_minor": 5
}
